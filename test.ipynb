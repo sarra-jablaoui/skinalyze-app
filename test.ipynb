{
 "cells": [
  {
   "cell_type": "code",
   "execution_count": 1,
   "id": "ce28c290-690e-4a2c-bad6-874853e31a44",
   "metadata": {},
   "outputs": [],
   "source": [
    "import os\n",
    "import pandas as pd\n",
    "from tensorflow.keras.preprocessing.image import ImageDataGenerator\n",
    "from tensorflow.keras.models import Sequential\n",
    "from tensorflow.keras.layers import Conv2D, MaxPooling2D, Flatten, Dense, Dropout\n",
    "from tensorflow.keras.optimizers import Adam"
   ]
  },
  {
   "cell_type": "code",
   "execution_count": 3,
   "id": "bfc1944e-0eb7-4c65-9db3-588317a341e0",
   "metadata": {},
   "outputs": [],
   "source": [
    "# 1. Load metadata\n",
    "skin_df = pd.read_csv('HAM10000_metadata.csv')\n"
   ]
  },
  {
   "cell_type": "code",
   "execution_count": 5,
   "id": "3adfdf54-6909-438c-a49c-47db7af65244",
   "metadata": {},
   "outputs": [],
   "source": [
    "# Specify the image directory\n",
    "image_dir = 'skin-cancer-mnist-ham10000/Untitled Folder 1'  # Change this to the path where images are stored"
   ]
  },
  {
   "cell_type": "code",
   "execution_count": 25,
   "id": "f33b76d0-142f-4ca6-983a-fcad213c78bf",
   "metadata": {},
   "outputs": [],
   "source": [
    "# Add full file paths to metadata\n",
    "skin_df['file_path'] = skin_df ['image_id'].apply(lambda x: os.path.join(image_dir, f\"{x}.jpg\"))"
   ]
  },
  {
   "cell_type": "code",
   "execution_count": 27,
   "id": "fd8bae95-8c2e-4d12-b50f-2b8093b01ca4",
   "metadata": {},
   "outputs": [],
   "source": [
    "# 2. Create ImageDataGenerator for data augmentation and preprocessing\n",
    "datagen = ImageDataGenerator(\n",
    "    rescale=1./255,  # Normalize pixel values to [0, 1]\n",
    "    validation_split=0.2,  # Reserve 20% for validation\n",
    "    horizontal_flip=True,  # Randomly flip images for augmentation\n",
    "    rotation_range=30,  # Randomly rotate images\n",
    "    zoom_range=0.2,  # Randomly zoom images\n",
    ")"
   ]
  },
  {
   "cell_type": "code",
   "execution_count": 29,
   "id": "b948c495-aad0-4e78-82ff-d8a73969923a",
   "metadata": {},
   "outputs": [
    {
     "name": "stdout",
     "output_type": "stream",
     "text": [
      "     lesion_id      image_id   dx dx_type   age   sex localization  label  \\\n",
      "0  HAM_0000118  ISIC_0027419  bkl   histo  80.0  male        scalp      2   \n",
      "1  HAM_0000118  ISIC_0025030  bkl   histo  80.0  male        scalp      2   \n",
      "2  HAM_0002730  ISIC_0026769  bkl   histo  80.0  male        scalp      2   \n",
      "3  HAM_0002730  ISIC_0025661  bkl   histo  80.0  male        scalp      2   \n",
      "4  HAM_0001466  ISIC_0031633  bkl   histo  75.0  male          ear      2   \n",
      "\n",
      "  label_str                                          file_path  \n",
      "0       bkl  skin-cancer-mnist-ham10000/Untitled Folder 1\\I...  \n",
      "1       bkl  skin-cancer-mnist-ham10000/Untitled Folder 1\\I...  \n",
      "2       bkl  skin-cancer-mnist-ham10000/Untitled Folder 1\\I...  \n",
      "3       bkl  skin-cancer-mnist-ham10000/Untitled Folder 1\\I...  \n",
      "4       bkl  skin-cancer-mnist-ham10000/Untitled Folder 1\\I...  \n",
      "Classes found: ['akiec', 'bcc', 'bkl', 'df', 'mel', 'nv', 'vasc']\n"
     ]
    }
   ],
   "source": [
    "import pandas as pd\n",
    "from sklearn.preprocessing import LabelEncoder\n",
    "\n",
    "# Assuming your DataFrame is already loaded into skin_df\n",
    "# Example: skin_df = pd.read_csv('your_file.csv')\n",
    "\n",
    "# Initialize LabelEncoder\n",
    "le = LabelEncoder()\n",
    "\n",
    "# Fit the encoder to the unique class names (assuming 'dx' column has the diagnosis labels)\n",
    "le.fit(skin_df['dx'])\n",
    "\n",
    "# Add a new column 'label' with the encoded numeric labels\n",
    "skin_df['label'] = le.transform(skin_df['dx'])\n",
    "\n",
    "# (Optional) Add another column 'label_str' with the original class labels (string version)\n",
    "skin_df['label_str'] = le.inverse_transform(skin_df['label'])\n",
    "\n",
    "# Display the first few rows to check the result\n",
    "print(skin_df.head())\n",
    "\n",
    "# Print out the classes for verification\n",
    "print(\"Classes found:\", list(le.classes_))\n",
    "\n",
    "# If needed, save the updated DataFrame with labels to a new CSV\n",
    "skin_df.to_csv('skin_with_labels.csv', index=False)\n"
   ]
  },
  {
   "cell_type": "code",
   "execution_count": 31,
   "id": "6890d49a-8651-4fc5-9723-e42f363b2a12",
   "metadata": {},
   "outputs": [
    {
     "name": "stdout",
     "output_type": "stream",
     "text": [
      "Found 0 validated image filenames belonging to 0 classes.\n",
      "Found 0 validated image filenames belonging to 0 classes.\n"
     ]
    },
    {
     "name": "stderr",
     "output_type": "stream",
     "text": [
      "C:\\Users\\jabla\\anaconda3\\Lib\\site-packages\\keras\\src\\legacy\\preprocessing\\image.py:920: UserWarning: Found 10015 invalid image filename(s) in x_col=\"image_id\". These filename(s) will be ignored.\n",
      "  warnings.warn(\n",
      "C:\\Users\\jabla\\anaconda3\\Lib\\site-packages\\keras\\src\\legacy\\preprocessing\\image.py:920: UserWarning: Found 10015 invalid image filename(s) in x_col=\"image_id\". These filename(s) will be ignored.\n",
      "  warnings.warn(\n"
     ]
    }
   ],
   "source": [
    "# Convert the 'label' column to strings\n",
    "skin_df['label'] = skin_df['label'].astype(str)\n",
    "\n",
    "# Now create the training and validation data generators\n",
    "from tensorflow.keras.preprocessing.image import ImageDataGenerator\n",
    "\n",
    "# Define the image directory (folder containing your images)\n",
    "image_directory = \"skin-cancer-mnist-ham10000/Untitled Folder 1\"\n",
    "\n",
    "# Create an image data generator\n",
    "datagen = ImageDataGenerator(validation_split=0.2)\n",
    "\n",
    "# Generate training data\n",
    "train_gen = datagen.flow_from_dataframe(\n",
    "    dataframe=skin_df,\n",
    "    directory=image_directory,  # Directory where images are stored\n",
    "    x_col=\"image_id\",           # Column containing the relative image filenames\n",
    "    y_col=\"label\",               # Column containing the encoded labels\n",
    "    target_size=(224, 224),      # Resize images to the expected input size\n",
    "    batch_size=32,\n",
    "    class_mode=\"categorical\",    # Use categorical labels for multi-class classification\n",
    "    subset=\"training\"            # Set this to 'training' for the training subset\n",
    ")\n",
    "\n",
    "# Generate validation data\n",
    "val_gen = datagen.flow_from_dataframe(\n",
    "    dataframe=skin_df,\n",
    "    directory=image_directory,  # Directory where images are stored\n",
    "    x_col=\"image_id\",           # Column containing the relative image filenames\n",
    "    y_col=\"label\",               # Column containing the encoded labels\n",
    "    target_size=(224, 224),      # Resize images to the expected input size\n",
    "    batch_size=32,\n",
    "    class_mode=\"categorical\",    # Use categorical labels for multi-class classification\n",
    "    subset=\"validation\"          # Set this to 'validation' for the validation subset\n",
    ")\n",
    "\n",
    "# Now you can use train_gen and val_gen in your model training\n"
   ]
  },
  {
   "cell_type": "code",
   "execution_count": 33,
   "id": "caeae024-dfe3-4d9a-962e-dcf052e11584",
   "metadata": {},
   "outputs": [
    {
     "name": "stdout",
     "output_type": "stream",
     "text": [
      "     lesion_id      image_id   dx dx_type   age   sex localization label  \\\n",
      "0  HAM_0000118  ISIC_0027419  bkl   histo  80.0  male        scalp     2   \n",
      "1  HAM_0000118  ISIC_0025030  bkl   histo  80.0  male        scalp     2   \n",
      "2  HAM_0002730  ISIC_0026769  bkl   histo  80.0  male        scalp     2   \n",
      "3  HAM_0002730  ISIC_0025661  bkl   histo  80.0  male        scalp     2   \n",
      "4  HAM_0001466  ISIC_0031633  bkl   histo  75.0  male          ear     2   \n",
      "\n",
      "  label_str                                          file_path  \n",
      "0       bkl  skin-cancer-mnist-ham10000/Untitled Folder 1\\I...  \n",
      "1       bkl  skin-cancer-mnist-ham10000/Untitled Folder 1\\I...  \n",
      "2       bkl  skin-cancer-mnist-ham10000/Untitled Folder 1\\I...  \n",
      "3       bkl  skin-cancer-mnist-ham10000/Untitled Folder 1\\I...  \n",
      "4       bkl  skin-cancer-mnist-ham10000/Untitled Folder 1\\I...  \n"
     ]
    }
   ],
   "source": [
    "print(skin_df.head())\n"
   ]
  },
  {
   "cell_type": "code",
   "execution_count": 35,
   "id": "12871f72-190d-473b-9c8c-4a89dd30198d",
   "metadata": {},
   "outputs": [
    {
     "name": "stdout",
     "output_type": "stream",
     "text": [
      "0    skin-cancer-mnist-ham10000/Untitled Folder 1/I...\n",
      "1    skin-cancer-mnist-ham10000/Untitled Folder 1/I...\n",
      "2    skin-cancer-mnist-ham10000/Untitled Folder 1/I...\n",
      "3    skin-cancer-mnist-ham10000/Untitled Folder 1/I...\n",
      "4    skin-cancer-mnist-ham10000/Untitled Folder 1/I...\n",
      "Name: file_path, dtype: object\n"
     ]
    }
   ],
   "source": [
    "import os\n",
    "\n",
    "# Fix file paths by using forward slashes\n",
    "skin_df['file_path'] = skin_df['file_path'].apply(lambda x: x.replace(\"\\\\\", \"/\"))\n",
    "\n",
    "# Now check the first few file paths to ensure they are correct\n",
    "print(skin_df['file_path'].head())\n",
    "\n",
    "# Check if the images exist in the directory\n",
    "for path in skin_df['file_path'].head():\n",
    "    if not os.path.exists(path):\n",
    "        print(f\"Image not found: {path}\")\n"
   ]
  },
  {
   "cell_type": "code",
   "execution_count": 37,
   "id": "24b6d70b-8da6-45cc-9eb7-63594949e5c5",
   "metadata": {},
   "outputs": [
    {
     "ename": "KeyError",
     "evalue": "'skin-cancer-mnist-ham10000/Untitled Folder 1'",
     "output_type": "error",
     "traceback": [
      "\u001b[1;31m---------------------------------------------------------------------------\u001b[0m",
      "\u001b[1;31mKeyError\u001b[0m                                  Traceback (most recent call last)",
      "File \u001b[1;32m~\\anaconda3\\Lib\\site-packages\\pandas\\core\\indexes\\base.py:3805\u001b[0m, in \u001b[0;36mIndex.get_loc\u001b[1;34m(self, key)\u001b[0m\n\u001b[0;32m   3804\u001b[0m \u001b[38;5;28;01mtry\u001b[39;00m:\n\u001b[1;32m-> 3805\u001b[0m     \u001b[38;5;28;01mreturn\u001b[39;00m \u001b[38;5;28mself\u001b[39m\u001b[38;5;241m.\u001b[39m_engine\u001b[38;5;241m.\u001b[39mget_loc(casted_key)\n\u001b[0;32m   3806\u001b[0m \u001b[38;5;28;01mexcept\u001b[39;00m \u001b[38;5;167;01mKeyError\u001b[39;00m \u001b[38;5;28;01mas\u001b[39;00m err:\n",
      "File \u001b[1;32mindex.pyx:167\u001b[0m, in \u001b[0;36mpandas._libs.index.IndexEngine.get_loc\u001b[1;34m()\u001b[0m\n",
      "File \u001b[1;32mindex.pyx:196\u001b[0m, in \u001b[0;36mpandas._libs.index.IndexEngine.get_loc\u001b[1;34m()\u001b[0m\n",
      "File \u001b[1;32mpandas\\\\_libs\\\\hashtable_class_helper.pxi:7081\u001b[0m, in \u001b[0;36mpandas._libs.hashtable.PyObjectHashTable.get_item\u001b[1;34m()\u001b[0m\n",
      "File \u001b[1;32mpandas\\\\_libs\\\\hashtable_class_helper.pxi:7089\u001b[0m, in \u001b[0;36mpandas._libs.hashtable.PyObjectHashTable.get_item\u001b[1;34m()\u001b[0m\n",
      "\u001b[1;31mKeyError\u001b[0m: 'skin-cancer-mnist-ham10000/Untitled Folder 1'",
      "\nThe above exception was the direct cause of the following exception:\n",
      "\u001b[1;31mKeyError\u001b[0m                                  Traceback (most recent call last)",
      "Cell \u001b[1;32mIn[37], line 2\u001b[0m\n\u001b[0;32m      1\u001b[0m \u001b[38;5;28;01mimport\u001b[39;00m \u001b[38;5;21;01mos\u001b[39;00m\n\u001b[1;32m----> 2\u001b[0m invalid_images \u001b[38;5;241m=\u001b[39m [path \u001b[38;5;28;01mfor\u001b[39;00m path \u001b[38;5;129;01min\u001b[39;00m skin_df[\u001b[38;5;124m'\u001b[39m\u001b[38;5;124mskin-cancer-mnist-ham10000/Untitled Folder 1\u001b[39m\u001b[38;5;124m'\u001b[39m] \u001b[38;5;28;01mif\u001b[39;00m \u001b[38;5;129;01mnot\u001b[39;00m os\u001b[38;5;241m.\u001b[39mpath\u001b[38;5;241m.\u001b[39mexists(path)]\n\u001b[0;32m      3\u001b[0m \u001b[38;5;28mprint\u001b[39m(\u001b[38;5;124mf\u001b[39m\u001b[38;5;124m\"\u001b[39m\u001b[38;5;124mInvalid images: \u001b[39m\u001b[38;5;132;01m{\u001b[39;00minvalid_images\u001b[38;5;132;01m}\u001b[39;00m\u001b[38;5;124m\"\u001b[39m)\n",
      "File \u001b[1;32m~\\anaconda3\\Lib\\site-packages\\pandas\\core\\frame.py:4102\u001b[0m, in \u001b[0;36mDataFrame.__getitem__\u001b[1;34m(self, key)\u001b[0m\n\u001b[0;32m   4100\u001b[0m \u001b[38;5;28;01mif\u001b[39;00m \u001b[38;5;28mself\u001b[39m\u001b[38;5;241m.\u001b[39mcolumns\u001b[38;5;241m.\u001b[39mnlevels \u001b[38;5;241m>\u001b[39m \u001b[38;5;241m1\u001b[39m:\n\u001b[0;32m   4101\u001b[0m     \u001b[38;5;28;01mreturn\u001b[39;00m \u001b[38;5;28mself\u001b[39m\u001b[38;5;241m.\u001b[39m_getitem_multilevel(key)\n\u001b[1;32m-> 4102\u001b[0m indexer \u001b[38;5;241m=\u001b[39m \u001b[38;5;28mself\u001b[39m\u001b[38;5;241m.\u001b[39mcolumns\u001b[38;5;241m.\u001b[39mget_loc(key)\n\u001b[0;32m   4103\u001b[0m \u001b[38;5;28;01mif\u001b[39;00m is_integer(indexer):\n\u001b[0;32m   4104\u001b[0m     indexer \u001b[38;5;241m=\u001b[39m [indexer]\n",
      "File \u001b[1;32m~\\anaconda3\\Lib\\site-packages\\pandas\\core\\indexes\\base.py:3812\u001b[0m, in \u001b[0;36mIndex.get_loc\u001b[1;34m(self, key)\u001b[0m\n\u001b[0;32m   3807\u001b[0m     \u001b[38;5;28;01mif\u001b[39;00m \u001b[38;5;28misinstance\u001b[39m(casted_key, \u001b[38;5;28mslice\u001b[39m) \u001b[38;5;129;01mor\u001b[39;00m (\n\u001b[0;32m   3808\u001b[0m         \u001b[38;5;28misinstance\u001b[39m(casted_key, abc\u001b[38;5;241m.\u001b[39mIterable)\n\u001b[0;32m   3809\u001b[0m         \u001b[38;5;129;01mand\u001b[39;00m \u001b[38;5;28many\u001b[39m(\u001b[38;5;28misinstance\u001b[39m(x, \u001b[38;5;28mslice\u001b[39m) \u001b[38;5;28;01mfor\u001b[39;00m x \u001b[38;5;129;01min\u001b[39;00m casted_key)\n\u001b[0;32m   3810\u001b[0m     ):\n\u001b[0;32m   3811\u001b[0m         \u001b[38;5;28;01mraise\u001b[39;00m InvalidIndexError(key)\n\u001b[1;32m-> 3812\u001b[0m     \u001b[38;5;28;01mraise\u001b[39;00m \u001b[38;5;167;01mKeyError\u001b[39;00m(key) \u001b[38;5;28;01mfrom\u001b[39;00m \u001b[38;5;21;01merr\u001b[39;00m\n\u001b[0;32m   3813\u001b[0m \u001b[38;5;28;01mexcept\u001b[39;00m \u001b[38;5;167;01mTypeError\u001b[39;00m:\n\u001b[0;32m   3814\u001b[0m     \u001b[38;5;66;03m# If we have a listlike key, _check_indexing_error will raise\u001b[39;00m\n\u001b[0;32m   3815\u001b[0m     \u001b[38;5;66;03m#  InvalidIndexError. Otherwise we fall through and re-raise\u001b[39;00m\n\u001b[0;32m   3816\u001b[0m     \u001b[38;5;66;03m#  the TypeError.\u001b[39;00m\n\u001b[0;32m   3817\u001b[0m     \u001b[38;5;28mself\u001b[39m\u001b[38;5;241m.\u001b[39m_check_indexing_error(key)\n",
      "\u001b[1;31mKeyError\u001b[0m: 'skin-cancer-mnist-ham10000/Untitled Folder 1'"
     ]
    }
   ],
   "source": [
    "import os\n",
    "invalid_images = [path for path in skin_df['skin-cancer-mnist-ham10000/Untitled Folder 1'] if not os.path.exists(path)]\n",
    "print(f\"Invalid images: {invalid_images}\")\n"
   ]
  },
  {
   "cell_type": "code",
   "execution_count": 39,
   "id": "5fb149bc-768b-4f7a-9201-a710b68ccc7b",
   "metadata": {},
   "outputs": [
    {
     "name": "stdout",
     "output_type": "stream",
     "text": [
      "Empty DataFrame\n",
      "Columns: [lesion_id, image_id, dx, dx_type, age, sex, localization, label, label_str, file_path, valid_images]\n",
      "Index: []\n"
     ]
    }
   ],
   "source": [
    "valid_image_extensions = ['.jpg', '.jpeg', '.png', '.bmp', '.gif']\n",
    "skin_df['valid_images'] = skin_df['file_path'].apply(lambda x: any(x.lower().endswith(ext) for ext in valid_image_extensions))\n",
    "\n",
    "# Check if there are any non-image files\n",
    "print(skin_df[~skin_df['valid_images']])\n"
   ]
  },
  {
   "cell_type": "code",
   "execution_count": 41,
   "id": "b0afe113-44c4-4519-971d-37a8b345601c",
   "metadata": {},
   "outputs": [
    {
     "name": "stdout",
     "output_type": "stream",
     "text": [
      "0    skin-cancer-mnist-ham10000/Untitled Folder 1/I...\n",
      "1    skin-cancer-mnist-ham10000/Untitled Folder 1/I...\n",
      "2    skin-cancer-mnist-ham10000/Untitled Folder 1/I...\n",
      "3    skin-cancer-mnist-ham10000/Untitled Folder 1/I...\n",
      "4    skin-cancer-mnist-ham10000/Untitled Folder 1/I...\n",
      "Name: file_path, dtype: object\n"
     ]
    }
   ],
   "source": [
    "# Check the first few file paths and their extensions\n",
    "print(skin_df['file_path'].head())\n"
   ]
  },
  {
   "cell_type": "code",
   "execution_count": 43,
   "id": "cb285691-0e50-4a0a-97eb-adb96e17a73a",
   "metadata": {},
   "outputs": [
    {
     "name": "stdout",
     "output_type": "stream",
     "text": [
      "0    skin-cancer-mnist-ham10000/Untitled Folder 1/I...\n",
      "1    skin-cancer-mnist-ham10000/Untitled Folder 1/I...\n",
      "2    skin-cancer-mnist-ham10000/Untitled Folder 1/I...\n",
      "3    skin-cancer-mnist-ham10000/Untitled Folder 1/I...\n",
      "4    skin-cancer-mnist-ham10000/Untitled Folder 1/I...\n",
      "Name: file_path, dtype: object\n"
     ]
    }
   ],
   "source": [
    "# Replace backslashes with forward slashes\n",
    "skin_df['file_path'] = skin_df['file_path'].apply(lambda x: x.replace('\\\\', '/'))\n",
    "\n",
    "# Check the updated paths\n",
    "print(skin_df['file_path'].head())\n"
   ]
  },
  {
   "cell_type": "code",
   "execution_count": 45,
   "id": "5ad30bfc-4993-4476-8091-330bb1b8b1c8",
   "metadata": {},
   "outputs": [
    {
     "name": "stdout",
     "output_type": "stream",
     "text": [
      "Empty DataFrame\n",
      "Columns: [lesion_id, image_id, dx, dx_type, age, sex, localization, label, label_str, file_path, valid_images, file_exists]\n",
      "Index: []\n"
     ]
    }
   ],
   "source": [
    "# Check if the images exist at the fixed paths\n",
    "skin_df['file_exists'] = skin_df['file_path'].apply(os.path.exists)\n",
    "\n",
    "# Check for rows where the file doesn't exist\n",
    "print(skin_df[~skin_df['file_exists']])\n"
   ]
  },
  {
   "cell_type": "code",
   "execution_count": 46,
   "id": "c9227cd1-2710-40f3-a693-d695d540e42d",
   "metadata": {},
   "outputs": [
    {
     "name": "stdout",
     "output_type": "stream",
     "text": [
      "Empty DataFrame\n",
      "Columns: [lesion_id, image_id, dx, dx_type, age, sex, localization, label, label_str, file_path, valid_images, file_exists]\n",
      "Index: []\n"
     ]
    }
   ],
   "source": [
    "valid_image_extensions = ['.jpg', '.jpeg', '.png', '.bmp', '.gif', '.tiff']\n",
    "skin_df['valid_images'] = skin_df['file_path'].apply(lambda x: any(x.lower().endswith(ext) for ext in valid_image_extensions))\n",
    "\n",
    "# Verify the valid images\n",
    "print(skin_df[~skin_df['valid_images']])  # This will show invalid images if any\n"
   ]
  },
  {
   "cell_type": "code",
   "execution_count": 47,
   "id": "d0f1a493-8d0a-4aae-869e-f8fcb97e78d4",
   "metadata": {},
   "outputs": [
    {
     "name": "stdout",
     "output_type": "stream",
     "text": [
      "Empty DataFrame\n",
      "Columns: [lesion_id, image_id, dx, dx_type, age, sex, localization, label, label_str, file_path, valid_images, file_exists]\n",
      "Index: []\n"
     ]
    }
   ],
   "source": [
    "# Show the rows with invalid images\n",
    "print(skin_df[~skin_df['valid_images']])\n"
   ]
  },
  {
   "cell_type": "code",
   "execution_count": 48,
   "id": "bd112d7a-f0ee-4c0b-b5b5-51080780bcca",
   "metadata": {},
   "outputs": [
    {
     "name": "stdout",
     "output_type": "stream",
     "text": [
      "Empty DataFrame\n",
      "Columns: [lesion_id, image_id, dx, dx_type, age, sex, localization, label, label_str, file_path, valid_images, file_exists]\n",
      "Index: []\n"
     ]
    }
   ],
   "source": [
    "import os\n",
    "\n",
    "# Check if the image files exist\n",
    "skin_df['file_exists'] = skin_df['file_path'].apply(lambda x: os.path.exists(x))\n",
    "\n",
    "# Show rows where files do not exist\n",
    "print(skin_df[~skin_df['file_exists']])\n"
   ]
  },
  {
   "cell_type": "code",
   "execution_count": 49,
   "id": "96427177-727a-4a55-b49c-dc62608de7db",
   "metadata": {},
   "outputs": [
    {
     "name": "stdout",
     "output_type": "stream",
     "text": [
      "Checking file: skin-cancer-mnist-ham10000/Untitled Folder 1/ISIC_0027419.jpg\n",
      "Exists: True\n"
     ]
    }
   ],
   "source": [
    "image_check = skin_df['file_path'].iloc[0]\n",
    "print(f\"Checking file: {image_check}\")\n",
    "print(f\"Exists: {os.path.exists(image_check)}\")\n"
   ]
  },
  {
   "cell_type": "code",
   "execution_count": 50,
   "id": "d2fc6000-21b4-4c89-aef3-ad4e7b4fe185",
   "metadata": {},
   "outputs": [
    {
     "name": "stdout",
     "output_type": "stream",
     "text": [
      "0    skin-cancer-mnist-ham10000/Untitled Folder 1/I...\n",
      "1    skin-cancer-mnist-ham10000/Untitled Folder 1/I...\n",
      "2    skin-cancer-mnist-ham10000/Untitled Folder 1/I...\n",
      "3    skin-cancer-mnist-ham10000/Untitled Folder 1/I...\n",
      "4    skin-cancer-mnist-ham10000/Untitled Folder 1/I...\n",
      "Name: file_path, dtype: object\n"
     ]
    }
   ],
   "source": [
    "# Print the first few file paths to ensure they are correct\n",
    "print(skin_df['file_path'].head())\n"
   ]
  },
  {
   "cell_type": "code",
   "execution_count": 51,
   "id": "8bb83731-7b66-428f-bcc1-fa26b22b7c27",
   "metadata": {},
   "outputs": [
    {
     "ename": "ImportError",
     "evalue": "cannot import name 'ImageDataGenerator' from 'keras.preprocessing.image' (C:\\Users\\jabla\\anaconda3\\Lib\\site-packages\\keras\\api\\preprocessing\\image\\__init__.py)",
     "output_type": "error",
     "traceback": [
      "\u001b[1;31m---------------------------------------------------------------------------\u001b[0m",
      "\u001b[1;31mImportError\u001b[0m                               Traceback (most recent call last)",
      "Cell \u001b[1;32mIn[51], line 1\u001b[0m\n\u001b[1;32m----> 1\u001b[0m \u001b[38;5;28;01mfrom\u001b[39;00m \u001b[38;5;21;01mkeras\u001b[39;00m\u001b[38;5;21;01m.\u001b[39;00m\u001b[38;5;21;01mpreprocessing\u001b[39;00m\u001b[38;5;21;01m.\u001b[39;00m\u001b[38;5;21;01mimage\u001b[39;00m \u001b[38;5;28;01mimport\u001b[39;00m ImageDataGenerator\n\u001b[0;32m      2\u001b[0m \u001b[38;5;28;01mfrom\u001b[39;00m \u001b[38;5;21;01mtensorflow\u001b[39;00m\u001b[38;5;21;01m.\u001b[39;00m\u001b[38;5;21;01mkeras\u001b[39;00m\u001b[38;5;21;01m.\u001b[39;00m\u001b[38;5;21;01mpreprocessing\u001b[39;00m\u001b[38;5;21;01m.\u001b[39;00m\u001b[38;5;21;01mimage\u001b[39;00m \u001b[38;5;28;01mimport\u001b[39;00m ImageDataGenerator\n\u001b[0;32m      4\u001b[0m \u001b[38;5;66;03m# Define the image directory where the images are stored\u001b[39;00m\n",
      "\u001b[1;31mImportError\u001b[0m: cannot import name 'ImageDataGenerator' from 'keras.preprocessing.image' (C:\\Users\\jabla\\anaconda3\\Lib\\site-packages\\keras\\api\\preprocessing\\image\\__init__.py)"
     ]
    }
   ],
   "source": [
    "from keras.preprocessing.image import ImageDataGenerator\n",
    "from tensorflow.keras.preprocessing.image import ImageDataGenerator\n",
    "\n",
    "# Define the image directory where the images are stored\n",
    "image_directory = \"skin-cancer-mnist-ham10000/Untitled Folder 1\"\n",
    "\n",
    "# Create an ImageDataGenerator object with rescaling\n",
    "datagen = ImageDataGenerator(rescale=1./255)\n",
    "\n",
    "# Create the data generator for the training set\n",
    "train_gen = datagen.flow_from_dataframe(\n",
    "    dataframe=skin_df,\n",
    "    directory=image_directory,  # Ensure this points to the directory containing your images\n",
    "    x_col=\"file_path\",  # Column containing the image file paths\n",
    "    y_col=\"label\",  # Column containing the labels\n",
    "    target_size=(224, 224),  # Resize images to 224x224\n",
    "    batch_size=32,\n",
    "    class_mode=\"categorical\"  # Use categorical labels (multi-class classification)\n",
    ")\n",
    "\n",
    "# Check the generator\n",
    "print(f\"Classes found: {train_gen.class_indices}\")\n"
   ]
  },
  {
   "cell_type": "code",
   "execution_count": 52,
   "id": "1ba9d0f1-5011-44d3-8a2a-76aaae45ab1d",
   "metadata": {},
   "outputs": [],
   "source": [
    "import os\n",
    "\n",
    "# Create the full file paths by joining directory and image filenames\n",
    "image_directory = \"skin-cancer-mnist-ham10000/Untitled Folder 1\"\n",
    "skin_df['file_path'] = skin_df['image_id'].apply(lambda x: os.path.join(image_directory, f\"{x}.jpg\"))\n"
   ]
  },
  {
   "cell_type": "code",
   "execution_count": 54,
   "id": "4181d863-bfe2-4aad-afba-c92fedc4f4f5",
   "metadata": {},
   "outputs": [],
   "source": [
    "# Convert the 'label' column to strings\n",
    "skin_df['label'] = skin_df['label'].astype(str)\n"
   ]
  },
  {
   "cell_type": "code",
   "execution_count": 56,
   "id": "14edcad3-0bc5-4720-bd83-120833269168",
   "metadata": {},
   "outputs": [
    {
     "name": "stdout",
     "output_type": "stream",
     "text": [
      "0    skin-cancer-mnist-ham10000/Untitled Folder 1\\I...\n",
      "1    skin-cancer-mnist-ham10000/Untitled Folder 1\\I...\n",
      "2    skin-cancer-mnist-ham10000/Untitled Folder 1\\I...\n",
      "3    skin-cancer-mnist-ham10000/Untitled Folder 1\\I...\n",
      "4    skin-cancer-mnist-ham10000/Untitled Folder 1\\I...\n",
      "Name: file_path, dtype: object\n",
      "Found 8012 validated image filenames belonging to 7 classes.\n",
      "Found 2003 validated image filenames belonging to 7 classes.\n"
     ]
    }
   ],
   "source": [
    "from tensorflow.keras.preprocessing.image import ImageDataGenerator\n",
    "from sklearn.model_selection import train_test_split\n",
    "\n",
    "# Define the image directory\n",
    "image_directory = \"skin-cancer-mnist-ham10000/Untitled Folder 1\"\n",
    "\n",
    "# Create an image data generator\n",
    "datagen = ImageDataGenerator(validation_split=0.2)\n",
    "\n",
    "# Ensure 'file_path' is the correct column and is valid\n",
    "print(skin_df['file_path'].head())  # Ensure file paths are correct\n",
    "\n",
    "# Generate training data\n",
    "train_gen = datagen.flow_from_dataframe(\n",
    "    dataframe=skin_df,\n",
    "    directory=None,  # No need for directory if full file path is already in 'file_path'\n",
    "    x_col=\"file_path\",  # Column containing the image paths\n",
    "    y_col=\"label\",      # Column containing the encoded labels\n",
    "    target_size=(224, 224),  # Resize images to the expected input size\n",
    "    batch_size=32,\n",
    "    class_mode=\"categorical\",  # Multi-class classification\n",
    "    subset=\"training\"          # Use the training subset\n",
    ")\n",
    "\n",
    "# Generate validation data\n",
    "val_gen = datagen.flow_from_dataframe(\n",
    "    dataframe=skin_df,\n",
    "    directory=None,  # No need for directory if full file path is already in 'file_path'\n",
    "    x_col=\"file_path\",  # Column containing the image paths\n",
    "    y_col=\"label\",      # Column containing the encoded labels\n",
    "    target_size=(224, 224),  # Resize images to the expected input size\n",
    "    batch_size=32,\n",
    "    class_mode=\"categorical\",  # Multi-class classification\n",
    "    subset=\"validation\"        # Use the validation subset\n",
    ")\n"
   ]
  },
  {
   "cell_type": "code",
   "execution_count": 62,
   "id": "c1f28b1c-db09-4f5d-ab47-9e98ab614919",
   "metadata": {},
   "outputs": [
    {
     "name": "stdout",
     "output_type": "stream",
     "text": [
      "\u001b[1m63/63\u001b[0m \u001b[32m━━━━━━━━━━━━━━━━━━━━\u001b[0m\u001b[37m\u001b[0m \u001b[1m60s\u001b[0m 942ms/step\n",
      "['0', '5', '5', '1', '5', '5', '5', '5', '5', '5', '5', '5', '0', '5', '5', '5', '4', '5', '5', '5', '5', '5', '5', '5', '5', '5', '5', '5', '5', '5', '5', '5', '5', '5', '5', '5', '5', '5', '5', '5', '5', '5', '5', '5', '5', '5', '5', '5', '5', '5', '5', '5', '5', '5', '5', '1', '5', '1', '5', '5', '5', '5', '5', '5', '5', '5', '5', '5', '5', '5', '5', '5', '5', '5', '5', '5', '5', '5', '5', '5', '5', '5', '5', '5', '5', '5', '5', '5', '5', '1', '5', '5', '5', '5', '5', '5', '5', '5', '5', '5', '5', '1', '5', '5', '5', '5', '1', '5', '5', '5', '5', '5', '4', '5', '5', '5', '5', '5', '5', '5', '5', '5', '5', '5', '5', '5', '5', '5', '5', '5', '5', '5', '5', '5', '5', '5', '5', '5', '5', '5', '1', '5', '5', '5', '5', '5', '5', '5', '5', '5', '5', '5', '4', '5', '5', '5', '5', '5', '5', '5', '1', '5', '5', '5', '1', '5', '5', '5', '1', '5', '5', '5', '5', '5', '5', '5', '5', '5', '5', '5', '5', '5', '5', '5', '5', '5', '5', '5', '5', '5', '5', '5', '5', '5', '5', '5', '5', '1', '5', '5', '5', '5', '1', '5', '5', '5', '5', '5', '5', '5', '5', '5', '5', '5', '5', '5', '5', '5', '5', '5', '5', '5', '5', '5', '5', '5', '5', '5', '5', '5', '5', '5', '5', '5', '5', '5', '5', '5', '5', '5', '5', '5', '5', '5', '5', '5', '5', '1', '5', '5', '5', '5', '5', '5', '5', '5', '5', '5', '5', '5', '5', '5', '5', '5', '5', '5', '5', '5', '5', '5', '5', '5', '5', '5', '5', '5', '5', '5', '1', '5', '5', '5', '5', '5', '5', '5', '5', '5', '5', '5', '5', '1', '5', '5', '5', '5', '5', '5', '5', '5', '5', '5', '5', '5', '5', '5', '1', '5', '5', '5', '5', '1', '5', '5', '5', '5', '5', '5', '5', '5', '5', '5', '5', '5', '5', '5', '5', '5', '5', '1', '5', '5', '5', '5', '5', '5', '5', '5', '5', '5', '5', '5', '5', '5', '5', '5', '5', '5', '5', '5', '5', '5', '5', '5', '5', '5', '5', '5', '5', '5', '5', '4', '5', '5', '5', '5', '5', '5', '5', '5', '5', '5', '4', '5', '5', '5', '5', '5', '5', '5', '5', '5', '5', '5', '5', '1', '5', '5', '1', '5', '5', '5', '5', '5', '5', '5', '5', '5', '5', '5', '1', '5', '5', '5', '5', '5', '1', '5', '5', '5', '5', '5', '5', '1', '1', '5', '5', '5', '5', '5', '1', '5', '5', '5', '5', '5', '5', '5', '5', '5', '5', '5', '5', '5', '5', '5', '5', '5', '5', '5', '5', '5', '5', '5', '5', '5', '5', '5', '5', '5', '5', '5', '5', '5', '5', '5', '5', '5', '5', '5', '5', '5', '5', '5', '5', '5', '5', '1', '5', '5', '5', '5', '5', '5', '5', '1', '1', '5', '5', '5', '5', '1', '5', '5', '1', '5', '5', '5', '5', '5', '5', '5', '5', '5', '5', '5', '5', '5', '1', '5', '5', '5', '5', '5', '5', '5', '5', '5', '5', '5', '5', '5', '5', '5', '5', '5', '5', '5', '5', '5', '5', '4', '5', '5', '5', '5', '5', '5', '5', '1', '5', '5', '5', '6', '5', '5', '5', '5', '5', '5', '5', '5', '5', '5', '5', '5', '5', '5', '5', '5', '5', '5', '0', '5', '5', '5', '5', '5', '5', '5', '5', '5', '5', '5', '5', '5', '5', '5', '5', '5', '5', '5', '5', '5', '5', '5', '5', '5', '5', '1', '5', '5', '5', '5', '5', '5', '5', '5', '5', '5', '5', '4', '1', '5', '5', '5', '5', '5', '5', '5', '5', '5', '5', '5', '5', '5', '5', '5', '0', '5', '5', '5', '5', '5', '5', '5', '5', '5', '5', '5', '5', '1', '5', '5', '5', '5', '5', '5', '5', '5', '5', '5', '5', '5', '5', '5', '5', '5', '5', '5', '5', '5', '4', '5', '5', '5', '5', '5', '5', '5', '5', '5', '5', '5', '5', '5', '5', '5', '5', '5', '5', '5', '5', '5', '1', '5', '5', '1', '5', '5', '5', '5', '5', '5', '5', '5', '5', '5', '5', '5', '5', '5', '5', '5', '5', '5', '5', '5', '5', '5', '1', '5', '5', '5', '5', '5', '5', '1', '5', '5', '5', '5', '5', '5', '5', '5', '5', '5', '5', '5', '5', '5', '5', '5', '5', '5', '5', '5', '5', '5', '1', '5', '5', '1', '5', '5', '5', '5', '5', '5', '5', '5', '5', '5', '5', '5', '5', '5', '5', '5', '5', '5', '5', '5', '1', '1', '5', '5', '5', '5', '5', '5', '5', '5', '5', '5', '5', '5', '5', '5', '1', '5', '5', '5', '1', '5', '5', '5', '5', '5', '5', '5', '5', '5', '5', '5', '5', '5', '0', '5', '5', '5', '5', '5', '5', '5', '5', '5', '5', '5', '5', '5', '5', '5', '5', '1', '5', '5', '5', '5', '5', '5', '5', '5', '5', '5', '5', '5', '5', '5', '5', '5', '5', '5', '5', '5', '5', '5', '5', '5', '5', '5', '5', '5', '5', '5', '5', '5', '5', '5', '5', '5', '4', '0', '5', '5', '5', '5', '5', '5', '5', '5', '5', '5', '5', '5', '5', '1', '5', '1', '5', '5', '5', '5', '5', '5', '5', '5', '5', '5', '5', '5', '5', '5', '5', '5', '5', '5', '5', '5', '5', '5', '5', '1', '5', '5', '5', '5', '5', '5', '5', '0', '5', '5', '0', '5', '5', '5', '5', '5', '5', '5', '5', '5', '5', '5', '4', '5', '5', '5', '5', '5', '5', '4', '5', '1', '5', '5', '5', '5', '5', '5', '5', '5', '5', '5', '5', '5', '5', '5', '5', '5', '5', '5', '5', '5', '5', '5', '5', '5', '5', '5', '5', '5', '5', '5', '1', '5', '5', '5', '5', '5', '5', '5', '5', '5', '5', '5', '5', '5', '5', '5', '5', '5', '5', '5', '5', '5', '5', '5', '5', '5', '5', '5', '5', '5', '5', '1', '5', '5', '5', '5', '5', '5', '0', '5', '5', '5', '5', '5', '5', '5', '5', '5', '5', '5', '5', '5', '5', '5', '1', '5', '5', '5', '5', '5', '5', '5', '5', '5', '5', '5', '1', '5', '5', '5', '5', '5', '5', '5', '5', '5', '5', '5', '5', '5', '5', '5', '5', '5', '5', '5', '5', '5', '5', '5', '5', '5', '5', '5', '5', '5', '5', '5', '5', '5', '5', '5', '5', '5', '5', '5', '5', '5', '5', '5', '5', '1', '5', '5', '5', '5', '5', '5', '5', '5', '1', '5', '1', '5', '5', '5', '5', '5', '5', '5', '5', '5', '5', '5', '0', '5', '5', '5', '5', '5', '5', '5', '5', '5', '5', '5', '5', '5', '5', '5', '5', '5', '5', '5', '5', '5', '5', '1', '5', '5', '1', '5', '5', '5', '5', '5', '5', '5', '5', '5', '5', '1', '1', '5', '5', '5', '5', '1', '5', '5', '5', '5', '5', '5', '5', '5', '5', '5', '5', '5', '5', '5', '5', '5', '5', '5', '5', '5', '5', '5', '5', '5', '5', '5', '5', '5', '5', '5', '5', '5', '5', '5', '5', '5', '5', '1', '5', '5', '5', '1', '5', '5', '1', '5', '5', '6', '5', '0', '5', '1', '5', '5', '5', '5', '5', '5', '5', '5', '5', '5', '5', '5', '5', '5', '5', '5', '5', '5', '5', '5', '5', '5', '5', '5', '5', '5', '5', '5', '5', '5', '5', '5', '5', '5', '5', '5', '5', '5', '5', '5', '5', '5', '5', '5', '5', '5', '5', '5', '5', '5', '5', '5', '5', '5', '5', '5', '5', '5', '5', '5', '5', '5', '5', '5', '5', '5', '5', '5', '5', '5', '5', '5', '5', '5', '5', '5', '5', '5', '5', '5', '5', '5', '5', '5', '5', '5', '5', '0', '5', '5', '5', '5', '5', '5', '5', '5', '5', '5', '5', '5', '5', '5', '5', '5', '5', '5', '5', '5', '5', '5', '5', '5', '5', '1', '5', '1', '5', '4', '5', '5', '5', '5', '5', '5', '5', '5', '5', '5', '5', '5', '5', '5', '5', '5', '1', '5', '5', '5', '5', '5', '5', '5', '5', '5', '5', '5', '5', '5', '5', '5', '5', '5', '5', '1', '5', '5', '5', '5', '5', '5', '1', '5', '5', '5', '5', '5', '5', '5', '1', '5', '5', '5', '5', '5', '5', '5', '5', '5', '5', '5', '5', '5', '5', '5', '5', '5', '5', '5', '5', '5', '5', '5', '5', '5', '5', '5', '5', '5', '5', '5', '5', '5', '6', '5', '5', '5', '5', '5', '5', '5', '5', '5', '5', '5', '0', '5', '5', '5', '5', '5', '5', '5', '5', '5', '5', '5', '5', '5', '5', '5', '5', '5', '1', '5', '1', '5', '5', '5', '5', '5', '5', '5', '5', '5', '5', '5', '5', '5', '5', '5', '5', '5', '5', '5', '5', '5', '5', '5', '5', '5', '5', '5', '5', '5', '5', '5', '5', '5', '5', '5', '5', '0', '5', '5', '5', '5', '5', '5', '5', '5', '5', '5', '1', '5', '5', '5', '5', '1', '5', '5', '5', '5', '1', '5', '5', '5', '5', '5', '5', '5', '0', '5', '5', '5', '5', '5', '5', '5', '5', '5', '5', '5', '5', '5', '5', '5', '5', '5', '5', '5', '5', '5', '5', '1', '5', '5', '5', '5', '5', '5', '5', '5', '4', '5', '5', '5', '5', '5', '5', '1', '5', '5', '5', '5', '1', '5', '5', '5', '5', '1', '5', '5', '5', '5', '5', '5', '5', '5', '5', '5', '1', '5', '5', '5', '5', '5', '5', '5', '1', '5', '5', '5', '5', '5', '5', '5', '5', '0', '5', '5', '5', '5', '5', '5', '5', '5', '5', '5', '5', '5', '5', '5', '1', '5', '5', '5', '5', '5', '5', '5', '5', '5', '1', '5', '5', '5', '5', '5', '5', '5', '5', '5', '5', '5', '5', '5', '1', '5', '5', '5', '5', '5', '5', '5', '5', '5', '5', '5', '5', '5', '0', '5', '5', '5', '5', '5', '5', '5', '5', '5', '5', '5', '5', '5', '5', '5', '5', '5', '5', '5', '5', '5', '5', '1', '5', '5', '5', '5', '5', '5', '5', '5', '5', '5', '5', '5', '5', '4', '5', '5', '5', '5', '5', '5', '5', '5', '5', '5', '5', '5', '5', '5', '5', '5', '5', '5', '5', '5', '5', '5', '5', '5', '5', '5', '5', '5', '5', '5', '5', '5', '5', '5', '5', '5', '1', '5', '5', '5', '5', '5', '1', '5', '5', '5', '4', '5', '5', '5', '5', '5', '5', '5', '5', '5', '5', '5', '5', '5', '5', '5', '5', '5', '4', '5', '5', '5', '5', '5', '5', '5', '5', '0', '5', '5', '5', '5', '5', '5', '5', '5', '5', '5', '5', '5', '5', '5', '5', '5', '5', '5', '5', '5', '5', '5', '1', '5', '4', '5', '5', '5', '5', '5', '5', '5', '5', '5', '0', '5', '0', '5', '0', '5', '5', '5', '5', '5', '0', '5', '5', '5', '5', '5', '5', '5', '5', '5', '5', '5', '5', '5', '5', '5', '5', '5', '5', '5', '5', '5', '5', '5', '5', '5', '5', '5', '5', '1', '1', '5', '5', '5', '5', '5', '5', '5', '5', '1', '5', '5', '5', '5', '5', '1', '5', '5', '5', '5', '5', '5', '5', '5', '5', '5', '5', '5', '5', '5', '5', '1', '5', '5', '5', '5', '5', '5', '5', '5', '5', '5', '5', '5', '5', '1', '5', '5', '5', '5', '5', '5', '5', '5', '5', '5', '1', '5', '1', '5', '5', '5', '5', '5', '5', '5', '5', '5', '5', '5', '5', '5', '5', '5', '5', '5', '5', '5', '5', '5', '5', '5', '5', '1', '5', '5', '1', '1', '5', '5', '5', '5', '5', '5', '5', '5', '5', '1', '5', '5', '5', '5', '5', '5', '5', '5', '5', '5', '5', '5', '5', '5', '5', '5', '5', '1', '5', '5', '1', '5', '5', '5', '5', '5', '5', '5', '5', '5', '5', '5', '5', '5', '5', '5', '5', '5', '5', '5', '5', '5', '5', '1', '5', '5', '5', '1', '5', '5', '5', '5', '5', '5', '5', '5', '5', '5', '5', '5', '5', '5', '5', '1', '1', '1', '5', '5', '5', '5', '5', '5', '5', '5', '5', '5', '5', '5', '5', '5', '5', '5', '5', '5', '5', '5', '5', '5', '5', '5', '5', '5', '5', '5', '5', '5', '5', '5', '5', '5', '5', '5', '5', '5', '5', '5', '5', '5', '5', '5', '5', '5', '5', '5', '5', '5', '5', '1', '5', '5', '5', '5', '5']\n"
     ]
    }
   ],
   "source": [
    "import numpy as np\n",
    "\n",
    "# Predict on a batch of images\n",
    "predictions = model.predict(val_gen, verbose=1)\n",
    "\n",
    "# Get the predicted class indices (the class with the highest probability)\n",
    "predicted_class_indices = np.argmax(predictions, axis=-1)\n",
    "\n",
    "# Reverse the class_indices to map from index to class name\n",
    "class_indices = train_gen.class_indices\n",
    "class_names = {v: k for k, v in class_indices.items()}  # Reversed dictionary\n",
    "\n",
    "# Map predicted indices to class names\n",
    "predicted_class_names = [class_names[idx] for idx in predicted_class_indices]\n",
    "\n",
    "# Print the predicted class names\n",
    "print(predicted_class_names)\n"
   ]
  },
  {
   "cell_type": "code",
   "execution_count": 58,
   "id": "ac087b05-672e-4c32-a5d2-e944f1aa716c",
   "metadata": {},
   "outputs": [
    {
     "name": "stderr",
     "output_type": "stream",
     "text": [
      "C:\\Users\\jabla\\anaconda3\\Lib\\site-packages\\keras\\src\\layers\\convolutional\\base_conv.py:107: UserWarning: Do not pass an `input_shape`/`input_dim` argument to a layer. When using Sequential models, prefer using an `Input(shape)` object as the first layer in the model instead.\n",
      "  super().__init__(activity_regularizer=activity_regularizer, **kwargs)\n",
      "C:\\Users\\jabla\\anaconda3\\Lib\\site-packages\\keras\\src\\trainers\\data_adapters\\py_dataset_adapter.py:121: UserWarning: Your `PyDataset` class should call `super().__init__(**kwargs)` in its constructor. `**kwargs` can include `workers`, `use_multiprocessing`, `max_queue_size`. Do not pass these arguments to `fit()`, as they will be ignored.\n",
      "  self._warn_if_super_not_called()\n"
     ]
    },
    {
     "name": "stdout",
     "output_type": "stream",
     "text": [
      "Epoch 1/3\n",
      "\u001b[1m251/251\u001b[0m \u001b[32m━━━━━━━━━━━━━━━━━━━━\u001b[0m\u001b[37m\u001b[0m \u001b[1m470s\u001b[0m 2s/step - accuracy: 0.7678 - loss: 70.8401 - val_accuracy: 0.0025 - val_loss: 19.0876\n",
      "Epoch 2/3\n",
      "\u001b[1m251/251\u001b[0m \u001b[32m━━━━━━━━━━━━━━━━━━━━\u001b[0m\u001b[37m\u001b[0m \u001b[1m421s\u001b[0m 2s/step - accuracy: 0.8463 - loss: 0.5960 - val_accuracy: 0.0050 - val_loss: 5.8100\n",
      "Epoch 3/3\n",
      "\u001b[1m251/251\u001b[0m \u001b[32m━━━━━━━━━━━━━━━━━━━━\u001b[0m\u001b[37m\u001b[0m \u001b[1m503s\u001b[0m 2s/step - accuracy: 0.8655 - loss: 0.4466 - val_accuracy: 0.0065 - val_loss: 10.8026\n"
     ]
    },
    {
     "data": {
      "text/plain": [
       "<keras.src.callbacks.history.History at 0x14b01668bf0>"
      ]
     },
     "execution_count": 58,
     "metadata": {},
     "output_type": "execute_result"
    }
   ],
   "source": [
    "# Example model creation (adjust as needed)\n",
    "from tensorflow.keras.models import Sequential\n",
    "from tensorflow.keras.layers import Conv2D, MaxPooling2D, Flatten, Dense\n",
    "\n",
    "# Create a simple CNN model for classification\n",
    "model = Sequential([\n",
    "    Conv2D(32, (3, 3), activation='relu', input_shape=(224, 224, 3)),\n",
    "    MaxPooling2D(pool_size=(2, 2)),\n",
    "    Conv2D(64, (3, 3), activation='relu'),\n",
    "    MaxPooling2D(pool_size=(2, 2)),\n",
    "    Flatten(),\n",
    "    Dense(128, activation='relu'),\n",
    "    Dense(7, activation='softmax')  # 7 classes\n",
    "])\n",
    "# Example model creation (adjust as needed)\n",
    "from tensorflow.keras.models import Sequential\n",
    "from tensorflow.keras.layers import Conv2D, MaxPooling2D, Flatten, Dense\n",
    "\n",
    "# Create a simple CNN model for classification\n",
    "model = Sequential([\n",
    "    Conv2D(32, (3, 3), activation='relu', input_shape=(224, 224, 3)),\n",
    "    MaxPooling2D(pool_size=(2, 2)),\n",
    "    Conv2D(64, (3, 3), activation='relu'),\n",
    "    MaxPooling2D(pool_size=(2, 2)),\n",
    "    Flatten(),\n",
    "    Dense(128, activation='relu'),\n",
    "    Dense(7, activation='softmax')  # 7 classes\n",
    "])\n",
    "\n",
    "model.compile(optimizer='adam', loss='categorical_crossentropy', metrics=['accuracy'])\n",
    "\n",
    "# Train the model using the generators\n",
    "model.fit(\n",
    "    train_gen,\n",
    "    validation_data=val_gen,\n",
    "    epochs=3\n",
    ")\n",
    "\n"
   ]
  },
  {
   "cell_type": "code",
   "execution_count": 60,
   "id": "1a5e2e10-6869-4d95-b695-22f6abb208f6",
   "metadata": {},
   "outputs": [
    {
     "name": "stderr",
     "output_type": "stream",
     "text": [
      "WARNING:absl:You are saving your model as an HDF5 file via `model.save()` or `keras.saving.save_model(model)`. This file format is considered legacy. We recommend using instead the native Keras format, e.g. `model.save('my_model.keras')` or `keras.saving.save_model(model, 'my_model.keras')`. \n"
     ]
    }
   ],
   "source": [
    "# Save the model to a file\n",
    "model.save('skin_model.h5')\n"
   ]
  },
  {
   "cell_type": "code",
   "execution_count": null,
   "id": "4f10df77-0647-4a42-ab94-33cc77488fe7",
   "metadata": {},
   "outputs": [],
   "source": []
  }
 ],
 "metadata": {
  "kernelspec": {
   "display_name": "Python 3 (ipykernel)",
   "language": "python",
   "name": "python3"
  },
  "language_info": {
   "codemirror_mode": {
    "name": "ipython",
    "version": 3
   },
   "file_extension": ".py",
   "mimetype": "text/x-python",
   "name": "python",
   "nbconvert_exporter": "python",
   "pygments_lexer": "ipython3",
   "version": "3.12.4"
  }
 },
 "nbformat": 4,
 "nbformat_minor": 5
}
